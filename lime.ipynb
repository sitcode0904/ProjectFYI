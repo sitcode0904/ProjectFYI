{
 "cells": [
  {
   "cell_type": "code",
   "execution_count": null,
   "metadata": {},
   "outputs": [],
   "source": [
    "pip install lime"
   ]
  },
  {
   "cell_type": "code",
   "execution_count": null,
   "metadata": {},
   "outputs": [],
   "source": [
    "import lime\n",
    "import sklearn\n",
    "import numpy as np\n",
    "import sklearn\n",
    "import sklearn.ensemble\n",
    "import sklearn.metrics\n",
    "from __future__ import print_function"
   ]
  },
  {
   "cell_type": "code",
   "execution_count": null,
   "metadata": {},
   "outputs": [],
   "source": [
    "import numpy as np\n",
    "import cv2\n",
    "import tensorflow as tf\n",
    "from tensorflow.keras.models import load_model\n",
    "from tensorflow.keras.applications.inception_v3 import preprocess_input\n",
    "from lime import lime_image\n",
    "from skimage.segmentation import mark_boundaries\n",
    "import matplotlib.pyplot as plt\n",
    "import os\n",
    "\n",
    "# Define the path to the MRI data and the model\n",
    "mri_data_path = 'C:/Users/KIIT/Downloads/Brain-Tumor-Detection-master/Brain-Tumor-Detection-master/augmented data/no'\n",
    "model_path = 'C:/Users/KIIT/Downloads/Brain-Tumor-Detection-master/Brain-Tumor-Detection-master/braintumordetector.h5'\n",
    "\n",
    "# Load the images from the directory\n",
    "def load_images_from_folder(folder, target_size):\n",
    "    images = []\n",
    "    for filename in os.listdir(folder):\n",
    "        img = cv2.imread(os.path.join(folder, filename))\n",
    "        if img is not None:\n",
    "            img = cv2.resize(img, target_size)  # Resize image to the target size\n",
    "            images.append(img)\n",
    "    return images\n",
    "\n",
    "# The model's expected input size\n",
    "input_size = (240, 240)\n",
    "\n",
    "mri_images = load_images_from_folder(mri_data_path, input_size)\n",
    "\n",
    "# Assuming labels are available in a separate file or derived from folder structure\n",
    "# For this example, I'm assigning dummy labels (0) to all images\n",
    "# Replace this with actual label loading mechanism\n",
    "labels = [0] * len(mri_images)\n",
    "\n",
    "print(f\"Number of images: {len(mri_images)}, Image shape: {mri_images[0].shape if mri_images else 'No images'}\")\n",
    "\n",
    "if not os.path.exists(model_path):\n",
    "    raise FileNotFoundError(f\"The model file {model_path} does not exist.\")\n",
    "\n",
    "inet_model = load_model(model_path)\n",
    "\n",
    "explainer = lime_image.LimeImageExplainer()\n",
    "\n",
    "# Select an image to explain\n",
    "i = 0  # Change index as needed\n",
    "image = mri_images[i]\n",
    "\n",
    "print(\"Selected image shape:\", image.shape)\n",
    "\n",
    "image = np.expand_dims(image, axis=0)  \n",
    "image = preprocess_input(image)\n",
    "\n",
    "predictions = inet_model.predict(image)\n",
    "\n",
    "explanation = explainer.explain_instance(image[0], inet_model.predict, top_labels=5, hide_color=0, num_samples=1000)\n",
    "\n",
    "temp, mask = explanation.get_image_and_mask(\n",
    "    label=predictions.argmax(axis=1)[0], \n",
    "    positive_only=True, \n",
    "    num_features=10, \n",
    "    hide_rest=False\n",
    ")\n",
    "\n",
    "plt.figure(figsize=(10, 5))\n",
    "\n",
    "plt.subplot(1, 2, 1)\n",
    "plt.imshow(cv2.cvtColor(mri_images[i], cv2.COLOR_BGR2RGB))  \n",
    "plt.title('Original Image')\n",
    "\n",
    "plt.subplot(1, 2, 2)\n",
    "plt.imshow(mark_boundaries(temp / 255.0, mask))  \n",
    "plt.title('LIME Explanation')\n",
    "plt.show()\n"
   ]
  },
  {
   "cell_type": "code",
   "execution_count": null,
   "metadata": {},
   "outputs": [],
   "source": [
    "temp, mask = explanation.get_image_and_mask(explanation.top_labels[0], positive_only=True, num_features=5, hide_rest=True)\n",
    "plt.imshow(mark_boundaries(temp / 2 + 0.5, mask))"
   ]
  },
  {
   "cell_type": "code",
   "execution_count": null,
   "metadata": {},
   "outputs": [],
   "source": [
    "temp, mask = explanation.get_image_and_mask(explanation.top_labels[0], positive_only=True, num_features=5, hide_rest=False)\n",
    "plt.imshow(mark_boundaries(temp / 2 + 0.5, mask))"
   ]
  },
  {
   "cell_type": "code",
   "execution_count": null,
   "metadata": {},
   "outputs": [],
   "source": [
    "temp, mask = explanation.get_image_and_mask(explanation.top_labels[0], positive_only=True, num_features=5, hide_rest=False)\n",
    "plt.imshow(mark_boundaries(temp / 2 + 0.5, mask))"
   ]
  },
  {
   "cell_type": "code",
   "execution_count": null,
   "metadata": {},
   "outputs": [],
   "source": [
    "temp, mask = explanation.get_image_and_mask(explanation.top_labels[0], positive_only=False, num_features=1000, hide_rest=False, min_weight=0.1)\n",
    "plt.imshow(mark_boundaries(temp / 2 + 0.5, mask))"
   ]
  },
  {
   "cell_type": "code",
   "execution_count": null,
   "metadata": {},
   "outputs": [],
   "source": [
    "temp, mask = explanation.get_image_and_mask(explanation.top_labels[0], positive_only=False, num_features=10, hide_rest=False)\n",
    "plt.imshow(mark_boundaries(temp / 2 + 0.5, mask))"
   ]
  },
  {
   "cell_type": "code",
   "execution_count": null,
   "metadata": {},
   "outputs": [],
   "source": [
    "temp, mask = explanation.get_image_and_mask(explanation.top_labels[0], positive_only=False, num_features=1000, hide_rest=False, min_weight=0.1)\n",
    "plt.imshow(mark_boundaries(temp / 2 + 0.5, mask))"
   ]
  },
  {
   "cell_type": "code",
   "execution_count": null,
   "metadata": {},
   "outputs": [],
   "source": [
    "#Select the same class explained on the figures above.\n",
    "ind =  explanation.top_labels[0]\n",
    "\n",
    "#Map each explanation weight to the corresponding superpixel\n",
    "dict_heatmap = dict(explanation.local_exp[ind])\n",
    "heatmap = np.vectorize(dict_heatmap.get)(explanation.segments)\n",
    "\n",
    "#Plot. The visualization makes more sense if a symmetrical colorbar is used.\n",
    "plt.imshow(heatmap, cmap = 'RdBu', vmin  = -heatmap.max(), vmax = heatmap.max())\n",
    "plt.colorbar()"
   ]
  }
 ],
 "metadata": {
  "language_info": {
   "name": "python"
  }
 },
 "nbformat": 4,
 "nbformat_minor": 2
}
